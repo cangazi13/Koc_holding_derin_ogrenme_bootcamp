{
  "cells": [
    {
      "cell_type": "code",
      "execution_count": 1,
      "id": "c1860f0a",
      "metadata": {
        "id": "c1860f0a"
      },
      "outputs": [],
      "source": [
        "import pandas as pd\n",
        "import numpy as np\n",
        "import pickle\n",
        "import matplotlib.pyplot as plt"
      ]
    },
    {
      "cell_type": "code",
      "source": [
        "from google.colab import drive\n",
        "drive.mount('/content/drive')"
      ],
      "metadata": {
        "colab": {
          "base_uri": "https://localhost:8080/"
        },
        "id": "yiByPxKLvmu4",
        "outputId": "a105fb1f-c952-47df-9665-9fd99a573f24"
      },
      "id": "yiByPxKLvmu4",
      "execution_count": 2,
      "outputs": [
        {
          "output_type": "stream",
          "name": "stdout",
          "text": [
            "Mounted at /content/drive\n"
          ]
        }
      ]
    },
    {
      "cell_type": "code",
      "source": [
        "from zipfile import ZipFile \n",
        "\n",
        "file_name=\"/content/drive/MyDrive/pkl.zip\"\n",
        "\n",
        "with ZipFile(file_name,\"r\") as zip: zip.extractall()"
      ],
      "metadata": {
        "id": "OT1kZ3ucxnOf"
      },
      "id": "OT1kZ3ucxnOf",
      "execution_count": 3,
      "outputs": []
    },
    {
      "cell_type": "code",
      "execution_count": 4,
      "id": "a9a7002e",
      "metadata": {
        "id": "a9a7002e"
      },
      "outputs": [],
      "source": [
        "x_train=pickle.load(open(\"x_train.pkl\",\"rb\"))\n",
        "y_train=pickle.load(open(\"y_train.pkl\",\"rb\"))\n",
        "x_test=pickle.load(open(\"x_test.pkl\",\"rb\"))\n",
        "y_test=pickle.load(open(\"y_test.pkl\",\"rb\"))\n",
        "x_val=pickle.load(open(\"x_val.pkl\",\"rb\"))\n",
        "y_val=pickle.load(open(\"y_val.pkl\",\"rb\"))"
      ]
    },
    {
      "cell_type": "code",
      "execution_count": 5,
      "id": "69ccd8b3",
      "metadata": {
        "id": "69ccd8b3",
        "outputId": "e1f0d7dd-f45f-4296-8fc3-ee7753847072",
        "colab": {
          "base_uri": "https://localhost:8080/"
        }
      },
      "outputs": [
        {
          "output_type": "stream",
          "name": "stdout",
          "text": [
            "x_train: 6984\n",
            "x_val: 874\n",
            "x_test: 874\n"
          ]
        }
      ],
      "source": [
        "print(f\"x_train: {len(x_train)}\")\n",
        "print(f\"x_val: {len(x_val)}\")\n",
        "print(f\"x_test: {len(x_test)}\")"
      ]
    },
    {
      "cell_type": "code",
      "execution_count": 6,
      "id": "ae269ce8",
      "metadata": {
        "id": "ae269ce8"
      },
      "outputs": [],
      "source": [
        "import tensorflow as tf"
      ]
    },
    {
      "cell_type": "code",
      "execution_count": 7,
      "id": "50412c08",
      "metadata": {
        "id": "50412c08"
      },
      "outputs": [],
      "source": [
        "model=tf.keras.Sequential()"
      ]
    },
    {
      "cell_type": "code",
      "execution_count": 8,
      "id": "3b448016",
      "metadata": {
        "id": "3b448016"
      },
      "outputs": [],
      "source": [
        "model.add(tf.keras.layers.Conv2D(128,kernel_size=(3,3),strides=(1,1),padding=\"same\",activation=\"relu\",input_shape=(128,128,1)))\n",
        "model.add(tf.keras.layers.MaxPooling2D((2,2)))"
      ]
    },
    {
      "cell_type": "code",
      "source": [
        "model.add(tf.keras.layers.Conv2D(128,kernel_size=(3,3),strides=(1,1),padding=\"same\",activation=\"relu\"))\n",
        "model.add(tf.keras.layers.MaxPooling2D((2,2)))\n",
        "model.add(tf.keras.layers.Conv2D(128,kernel_size=(3,3),strides=(1,1),padding=\"same\",activation=\"relu\"))"
      ],
      "metadata": {
        "id": "hIOlexOx3hsM"
      },
      "id": "hIOlexOx3hsM",
      "execution_count": 9,
      "outputs": []
    },
    {
      "cell_type": "code",
      "source": [
        "model.add(tf.keras.layers.Flatten())"
      ],
      "metadata": {
        "id": "RtOGArhK3mVL"
      },
      "id": "RtOGArhK3mVL",
      "execution_count": 10,
      "outputs": []
    },
    {
      "cell_type": "code",
      "source": [
        "model.add(tf.keras.layers.Dense(128,activation=\"relu\"))\n",
        "model.add(tf.keras.layers.Dropout(0.5))\n",
        "\n",
        "model.add(tf.keras.layers.Dense(128,activation=\"relu\"))\n",
        "model.add(tf.keras.layers.Dropout(0.5))"
      ],
      "metadata": {
        "id": "UiWGpIw63pFb"
      },
      "id": "UiWGpIw63pFb",
      "execution_count": 11,
      "outputs": []
    },
    {
      "cell_type": "code",
      "source": [
        "model.add(tf.keras.layers.Dense(10,activation=\"softmax\"))"
      ],
      "metadata": {
        "id": "t7tCIxSc3rzS"
      },
      "id": "t7tCIxSc3rzS",
      "execution_count": 12,
      "outputs": []
    },
    {
      "cell_type": "code",
      "source": [
        "model.compile(optimizer=\"adam\",loss=\"sparse_categorical_crossentropy\",metrics=[\"accuracy\"])"
      ],
      "metadata": {
        "id": "-NOG8Ay83ulh"
      },
      "id": "-NOG8Ay83ulh",
      "execution_count": 13,
      "outputs": []
    },
    {
      "cell_type": "code",
      "source": [
        "results=model.fit(x_train,y_train,batch_size=128,epochs=50,validation_data=(x_val,y_val))"
      ],
      "metadata": {
        "colab": {
          "base_uri": "https://localhost:8080/"
        },
        "id": "EULOfzbh3xhC",
        "outputId": "a5371410-31b6-4bd6-be59-05eee7ebab20"
      },
      "id": "EULOfzbh3xhC",
      "execution_count": 14,
      "outputs": [
        {
          "output_type": "stream",
          "name": "stdout",
          "text": [
            "Epoch 1/50\n",
            "55/55 [==============================] - 23s 233ms/step - loss: 2.0045 - accuracy: 0.2582 - val_loss: 1.4942 - val_accuracy: 0.5229\n",
            "Epoch 2/50\n",
            "55/55 [==============================] - 10s 183ms/step - loss: 1.4550 - accuracy: 0.4880 - val_loss: 1.0083 - val_accuracy: 0.6693\n",
            "Epoch 3/50\n",
            "55/55 [==============================] - 10s 181ms/step - loss: 1.1657 - accuracy: 0.6008 - val_loss: 0.7994 - val_accuracy: 0.7449\n",
            "Epoch 4/50\n",
            "55/55 [==============================] - 10s 182ms/step - loss: 0.9251 - accuracy: 0.6929 - val_loss: 0.6956 - val_accuracy: 0.7849\n",
            "Epoch 5/50\n",
            "55/55 [==============================] - 10s 183ms/step - loss: 0.7827 - accuracy: 0.7390 - val_loss: 0.6075 - val_accuracy: 0.8101\n",
            "Epoch 6/50\n",
            "55/55 [==============================] - 10s 184ms/step - loss: 0.6529 - accuracy: 0.7905 - val_loss: 0.5343 - val_accuracy: 0.8352\n",
            "Epoch 7/50\n",
            "55/55 [==============================] - 10s 184ms/step - loss: 0.5437 - accuracy: 0.8190 - val_loss: 0.4880 - val_accuracy: 0.8501\n",
            "Epoch 8/50\n",
            "55/55 [==============================] - 10s 184ms/step - loss: 0.4704 - accuracy: 0.8414 - val_loss: 0.4517 - val_accuracy: 0.8673\n",
            "Epoch 9/50\n",
            "55/55 [==============================] - 10s 185ms/step - loss: 0.4220 - accuracy: 0.8613 - val_loss: 0.4559 - val_accuracy: 0.8650\n",
            "Epoch 10/50\n",
            "55/55 [==============================] - 10s 186ms/step - loss: 0.3443 - accuracy: 0.8873 - val_loss: 0.4569 - val_accuracy: 0.8764\n",
            "Epoch 11/50\n",
            "55/55 [==============================] - 10s 186ms/step - loss: 0.3067 - accuracy: 0.9001 - val_loss: 0.3685 - val_accuracy: 0.8902\n",
            "Epoch 12/50\n",
            "55/55 [==============================] - 10s 188ms/step - loss: 0.2849 - accuracy: 0.9069 - val_loss: 0.4107 - val_accuracy: 0.8764\n",
            "Epoch 13/50\n",
            "55/55 [==============================] - 10s 187ms/step - loss: 0.2442 - accuracy: 0.9178 - val_loss: 0.3623 - val_accuracy: 0.8959\n",
            "Epoch 14/50\n",
            "55/55 [==============================] - 10s 187ms/step - loss: 0.2410 - accuracy: 0.9218 - val_loss: 0.4318 - val_accuracy: 0.8810\n",
            "Epoch 15/50\n",
            "55/55 [==============================] - 10s 186ms/step - loss: 0.2017 - accuracy: 0.9316 - val_loss: 0.4110 - val_accuracy: 0.8947\n",
            "Epoch 16/50\n",
            "55/55 [==============================] - 10s 186ms/step - loss: 0.1863 - accuracy: 0.9391 - val_loss: 0.4517 - val_accuracy: 0.8947\n",
            "Epoch 17/50\n",
            "55/55 [==============================] - 10s 186ms/step - loss: 0.1665 - accuracy: 0.9459 - val_loss: 0.4905 - val_accuracy: 0.8844\n",
            "Epoch 18/50\n",
            "55/55 [==============================] - 10s 189ms/step - loss: 0.1694 - accuracy: 0.9450 - val_loss: 0.3926 - val_accuracy: 0.8936\n",
            "Epoch 19/50\n",
            "55/55 [==============================] - 10s 187ms/step - loss: 0.1566 - accuracy: 0.9482 - val_loss: 0.3996 - val_accuracy: 0.8913\n",
            "Epoch 20/50\n",
            "55/55 [==============================] - 10s 187ms/step - loss: 0.1423 - accuracy: 0.9500 - val_loss: 0.4738 - val_accuracy: 0.8753\n",
            "Epoch 21/50\n",
            "55/55 [==============================] - 10s 188ms/step - loss: 0.1524 - accuracy: 0.9499 - val_loss: 0.4257 - val_accuracy: 0.8902\n",
            "Epoch 22/50\n",
            "55/55 [==============================] - 10s 187ms/step - loss: 0.1436 - accuracy: 0.9519 - val_loss: 0.4370 - val_accuracy: 0.8936\n",
            "Epoch 23/50\n",
            "55/55 [==============================] - 10s 187ms/step - loss: 0.1201 - accuracy: 0.9618 - val_loss: 0.4797 - val_accuracy: 0.8856\n",
            "Epoch 24/50\n",
            "55/55 [==============================] - 10s 187ms/step - loss: 0.1280 - accuracy: 0.9548 - val_loss: 0.4495 - val_accuracy: 0.8867\n",
            "Epoch 25/50\n",
            "55/55 [==============================] - 10s 186ms/step - loss: 0.1220 - accuracy: 0.9602 - val_loss: 0.4357 - val_accuracy: 0.8936\n",
            "Epoch 26/50\n",
            "55/55 [==============================] - 10s 186ms/step - loss: 0.1248 - accuracy: 0.9552 - val_loss: 0.4857 - val_accuracy: 0.8867\n",
            "Epoch 27/50\n",
            "55/55 [==============================] - 10s 186ms/step - loss: 0.1163 - accuracy: 0.9606 - val_loss: 0.4498 - val_accuracy: 0.8947\n",
            "Epoch 28/50\n",
            "55/55 [==============================] - 10s 186ms/step - loss: 0.1127 - accuracy: 0.9601 - val_loss: 0.4321 - val_accuracy: 0.8959\n",
            "Epoch 29/50\n",
            "55/55 [==============================] - 10s 186ms/step - loss: 0.1041 - accuracy: 0.9665 - val_loss: 0.4111 - val_accuracy: 0.9016\n",
            "Epoch 30/50\n",
            "55/55 [==============================] - 10s 189ms/step - loss: 0.1000 - accuracy: 0.9645 - val_loss: 0.4459 - val_accuracy: 0.9005\n",
            "Epoch 31/50\n",
            "55/55 [==============================] - 10s 186ms/step - loss: 0.0930 - accuracy: 0.9681 - val_loss: 0.4981 - val_accuracy: 0.8959\n",
            "Epoch 32/50\n",
            "55/55 [==============================] - 10s 186ms/step - loss: 0.0910 - accuracy: 0.9696 - val_loss: 0.4826 - val_accuracy: 0.8959\n",
            "Epoch 33/50\n",
            "55/55 [==============================] - 10s 187ms/step - loss: 0.0905 - accuracy: 0.9685 - val_loss: 0.5287 - val_accuracy: 0.8879\n",
            "Epoch 34/50\n",
            "55/55 [==============================] - 10s 186ms/step - loss: 0.0900 - accuracy: 0.9678 - val_loss: 0.5008 - val_accuracy: 0.8959\n",
            "Epoch 35/50\n",
            "55/55 [==============================] - 10s 187ms/step - loss: 0.0954 - accuracy: 0.9682 - val_loss: 0.4977 - val_accuracy: 0.8959\n",
            "Epoch 36/50\n",
            "55/55 [==============================] - 10s 187ms/step - loss: 0.0819 - accuracy: 0.9734 - val_loss: 0.5196 - val_accuracy: 0.8867\n",
            "Epoch 37/50\n",
            "55/55 [==============================] - 10s 187ms/step - loss: 0.0828 - accuracy: 0.9715 - val_loss: 0.4754 - val_accuracy: 0.8947\n",
            "Epoch 38/50\n",
            "55/55 [==============================] - 10s 187ms/step - loss: 0.0882 - accuracy: 0.9696 - val_loss: 0.4516 - val_accuracy: 0.8947\n",
            "Epoch 39/50\n",
            "55/55 [==============================] - 10s 187ms/step - loss: 0.0852 - accuracy: 0.9716 - val_loss: 0.5012 - val_accuracy: 0.9039\n",
            "Epoch 40/50\n",
            "55/55 [==============================] - 10s 186ms/step - loss: 0.0837 - accuracy: 0.9724 - val_loss: 0.5274 - val_accuracy: 0.8856\n",
            "Epoch 41/50\n",
            "55/55 [==============================] - 10s 186ms/step - loss: 0.0810 - accuracy: 0.9725 - val_loss: 0.5248 - val_accuracy: 0.8833\n",
            "Epoch 42/50\n",
            "55/55 [==============================] - 10s 189ms/step - loss: 0.0788 - accuracy: 0.9725 - val_loss: 0.5405 - val_accuracy: 0.8879\n",
            "Epoch 43/50\n",
            "55/55 [==============================] - 10s 186ms/step - loss: 0.0780 - accuracy: 0.9712 - val_loss: 0.4523 - val_accuracy: 0.8982\n",
            "Epoch 44/50\n",
            "55/55 [==============================] - 10s 186ms/step - loss: 0.0986 - accuracy: 0.9719 - val_loss: 0.4732 - val_accuracy: 0.8924\n",
            "Epoch 45/50\n",
            "55/55 [==============================] - 10s 186ms/step - loss: 0.0851 - accuracy: 0.9699 - val_loss: 0.4818 - val_accuracy: 0.8993\n",
            "Epoch 46/50\n",
            "55/55 [==============================] - 10s 186ms/step - loss: 0.0797 - accuracy: 0.9728 - val_loss: 0.5221 - val_accuracy: 0.8867\n",
            "Epoch 47/50\n",
            "55/55 [==============================] - 10s 186ms/step - loss: 0.0688 - accuracy: 0.9761 - val_loss: 0.5367 - val_accuracy: 0.8970\n",
            "Epoch 48/50\n",
            "55/55 [==============================] - 10s 186ms/step - loss: 0.0649 - accuracy: 0.9762 - val_loss: 0.4965 - val_accuracy: 0.9016\n",
            "Epoch 49/50\n",
            "55/55 [==============================] - 10s 190ms/step - loss: 0.0750 - accuracy: 0.9742 - val_loss: 0.5455 - val_accuracy: 0.8947\n",
            "Epoch 50/50\n",
            "55/55 [==============================] - 10s 186ms/step - loss: 0.0853 - accuracy: 0.9719 - val_loss: 0.5094 - val_accuracy: 0.8890\n"
          ]
        }
      ]
    },
    {
      "cell_type": "code",
      "source": [
        "model.evaluate(x_test,y_test)"
      ],
      "metadata": {
        "colab": {
          "base_uri": "https://localhost:8080/"
        },
        "id": "uLcxS9Xt3-9z",
        "outputId": "cfef14b0-8bbe-4788-dff2-8693991d2b51"
      },
      "id": "uLcxS9Xt3-9z",
      "execution_count": 15,
      "outputs": [
        {
          "output_type": "stream",
          "name": "stdout",
          "text": [
            "28/28 [==============================] - 1s 28ms/step - loss: 0.6497 - accuracy: 0.8719\n"
          ]
        },
        {
          "output_type": "execute_result",
          "data": {
            "text/plain": [
              "[0.6496849656105042, 0.8718535304069519]"
            ]
          },
          "metadata": {},
          "execution_count": 15
        }
      ]
    },
    {
      "cell_type": "code",
      "source": [
        "plt.plot(results.history[\"accuracy\"],label=\"accuracy\")\n",
        "plt.plot(results.history[\"val_accuracy\"],label=\"val_accuracy\")\n",
        "plt.xlabel(\"Epoch\")\n",
        "plt.ylabel(\"Accuracy\")\n",
        "plt.legend()\n",
        "plt.show()"
      ],
      "metadata": {
        "colab": {
          "base_uri": "https://localhost:8080/",
          "height": 280
        },
        "id": "JFYHiZCW42fC",
        "outputId": "3a95c76f-a4e7-43e2-e1de-b9bbcfa6ea3f"
      },
      "id": "JFYHiZCW42fC",
      "execution_count": 16,
      "outputs": [
        {
          "output_type": "display_data",
          "data": {
            "text/plain": [
              "<Figure size 432x288 with 1 Axes>"
            ],
            "image/png": "[encoded data removed]"
          },
          "metadata": {
            "needs_background": "light"
          }
        }
      ]
    },
    {
      "cell_type": "code",
      "source": [
        "plt.plot(results.history[\"loss\"],label=\"loss\")\n",
        "plt.plot(results.history[\"val_loss\"],label=\"val_loss\")\n",
        "plt.xlabel(\"Epoch\")\n",
        "plt.ylabel(\"Loss\")\n",
        "plt.legend()\n",
        "plt.show()"
      ],
      "metadata": {
        "colab": {
          "base_uri": "https://localhost:8080/",
          "height": 279
        },
        "id": "5g6K6ws_7-Iu",
        "outputId": "8491d182-38ec-49bb-af9c-40cf1f3ee9f8"
      },
      "id": "5g6K6ws_7-Iu",
      "execution_count": 17,
      "outputs": [
        {
          "output_type": "display_data",
          "data": {
            "text/plain": [
              "<Figure size 432x288 with 1 Axes>"
            ],
            "image/png": "[encoded data removed]"
          },
          "metadata": {
            "needs_background": "light"
          }
        }
      ]
    }
  ],
  "metadata": {
    "kernelspec": {
      "display_name": "Python 3 (ipykernel)",
      "language": "python",
      "name": "python3"
    },
    "language_info": {
      "codemirror_mode": {
        "name": "ipython",
        "version": 3
      },
      "file_extension": ".py",
      "mimetype": "text/x-python",
      "name": "python",
      "nbconvert_exporter": "python",
      "pygments_lexer": "ipython3",
      "version": "3.9.12"
    },
    "colab": {
      "provenance": [],
      "collapsed_sections": []
    },
    "accelerator": "GPU"
  },
  "nbformat": 4,
  "nbformat_minor": 5
}